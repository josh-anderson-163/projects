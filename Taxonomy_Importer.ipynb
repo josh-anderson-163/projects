{
 "cells": [
  {
   "cell_type": "markdown",
   "id": "236b1349",
   "metadata": {},
   "source": [
    "# Taxonomy Importer"
   ]
  },
  {
   "cell_type": "markdown",
   "id": "95595864",
   "metadata": {},
   "source": [
    "I would like to create a taxonomy hierarchy in CSV and then import that into Paligo."
   ]
  },
  {
   "cell_type": "code",
   "execution_count": 3,
   "id": "ec82a007",
   "metadata": {},
   "outputs": [
    {
     "name": "stdout",
     "output_type": "stream",
     "text": [
      "✅ Created: ﻿fresh import (ID: 26423)\n",
      "✅ Created: fruit (ID: 26424)\n",
      "✅ Created: apples (ID: 26425)\n",
      "✅ Created: grapes (ID: 26426)\n",
      "✅ Created: oranges (ID: 26427)\n",
      "✅ Created: honeydew (ID: 26428)\n",
      "✅ Created: pineapples (ID: 26429)\n",
      "✅ Created: watermelons (ID: 26430)\n",
      "✅ Created: animals (ID: 26431)\n",
      "✅ Created: chicken (ID: 26432)\n",
      "✅ Created: pigs (ID: 26433)\n",
      "✅ Created: dogs (ID: 26434)\n",
      "✅ Created: cows (ID: 26435)\n",
      "✅ Created: sheep (ID: 26436)\n",
      "✅ Created: monkeys (ID: 26437)\n",
      "✅ Created: xing xing (ID: 26438)\n",
      "✅ Created: wu kong (ID: 26439)\n",
      "✅ Created: hou zi (ID: 26440)\n"
     ]
    }
   ],
   "source": [
    "import csv\n",
    "import requests\n",
    "import base64\n",
    "import os\n",
    "from dotenv import load_dotenv\n",
    "\n",
    "# --- Configuration ---\n",
    "CSV_FILE = \"taxonomy_import.csv\"  # Your uploaded file\n",
    "DEFAULT_COLOR = 3\n",
    "BASE_URL = 'https://josh-anderson.paligoapp.com/api/v2/'\n",
    "USERNAME = \"josh.anderson@paligo.net\"\n",
    "\n",
    "# --- Load API key from environment file ---\n",
    "load_dotenv(\"environment.env\")\n",
    "API_KEY = os.getenv(\"PALIGO_API_KEY\")\n",
    "\n",
    "# --- Encode authentication ---\n",
    "auth_string = f\"{USERNAME}:{API_KEY}\"\n",
    "encoded_auth = base64.b64encode(auth_string.encode()).decode(\"utf-8\")\n",
    "headers = {\n",
    "    'Authorization': f'Basic {encoded_auth}',\n",
    "    'Content-Type': 'application/json',\n",
    "    'Accept': 'application/json'\n",
    "}\n",
    "\n",
    "# --- Parse CSV to nested taxonomy tree ---\n",
    "def parse_csv_to_tree(file_path):\n",
    "    taxonomy_paths = []\n",
    "    with open(file_path, newline='', encoding='utf-8') as f:\n",
    "        reader = csv.reader(f)\n",
    "        for row in reader:\n",
    "            for depth, value in enumerate(row):\n",
    "                value = value.strip()\n",
    "                if value:\n",
    "                    if len(taxonomy_paths) == 0 or depth == 0:\n",
    "                        taxonomy_paths.append([value])\n",
    "                    else:\n",
    "                        parent_path = taxonomy_paths[-1][:depth]\n",
    "                        taxonomy_paths.append(parent_path + [value])\n",
    "                    break  # Only first non-empty cell\n",
    "\n",
    "    def build_tree(paths):\n",
    "        tree = {}\n",
    "        for path in paths:\n",
    "            current = tree\n",
    "            for part in path:\n",
    "                current = current.setdefault(part, {})\n",
    "        return tree\n",
    "\n",
    "    return build_tree(taxonomy_paths)\n",
    "\n",
    "# --- Recursive taxonomy uploader ---\n",
    "def create_taxonomy_recursive(tree, parent_id=None):\n",
    "    for title, children in tree.items():\n",
    "        body = {\n",
    "            \"title\": title,\n",
    "            \"color\": DEFAULT_COLOR\n",
    "        }\n",
    "        if parent_id:\n",
    "            body[\"parent\"] = parent_id\n",
    "\n",
    "        response = requests.post(BASE_URL + \"taxonomies/\", headers=headers, json=body)\n",
    "        if response.status_code == 201:\n",
    "            tax_id = response.json().get(\"id\")\n",
    "            print(f\"✅ Created: {title} (ID: {tax_id})\")\n",
    "            # Recursively create children\n",
    "            create_taxonomy_recursive(children, parent_id=tax_id)\n",
    "        else:\n",
    "            print(f\"❌ Failed to create '{title}': {response.status_code}\")\n",
    "            try:\n",
    "                print(response.json())\n",
    "            except:\n",
    "                print(response.text)\n",
    "\n",
    "# --- Main execution ---\n",
    "if __name__ == \"__main__\":\n",
    "    tree = parse_csv_to_tree(CSV_FILE)\n",
    "    create_taxonomy_recursive(tree)\n"
   ]
  }
 ],
 "metadata": {
  "kernelspec": {
   "display_name": "Python 3",
   "language": "python",
   "name": "python3"
  },
  "language_info": {
   "codemirror_mode": {
    "name": "ipython",
    "version": 3
   },
   "file_extension": ".py",
   "mimetype": "text/x-python",
   "name": "python",
   "nbconvert_exporter": "python",
   "pygments_lexer": "ipython3",
   "version": "3.9.6"
  }
 },
 "nbformat": 4,
 "nbformat_minor": 5
}
